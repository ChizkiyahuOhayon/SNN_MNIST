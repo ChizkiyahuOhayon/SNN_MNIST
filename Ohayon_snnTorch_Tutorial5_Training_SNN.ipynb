{
  "nbformat": 4,
  "nbformat_minor": 0,
  "metadata": {
    "colab": {
      "provenance": [],
      "gpuType": "T4"
    },
    "kernelspec": {
      "name": "python3",
      "display_name": "Python 3"
    },
    "language_info": {
      "name": "python"
    },
    "accelerator": "GPU"
  },
  "cells": [
    {
      "cell_type": "code",
      "source": [
        "# imports\n",
        "import snntorch as snn\n",
        "from snntorch import spikeplot as splt\n",
        "from snntorch import spikegen\n",
        "\n",
        "import torch\n",
        "import torch.nn as nn\n",
        "from torch.utils.data import DataLoader\n",
        "from torchvision import datasets, transforms\n",
        "# transforms and datasets are all from torchvision\n",
        "\n",
        "import matplotlib.pyplot as plt\n",
        "import numpy as np\n",
        "import itertools"
      ],
      "metadata": {
        "id": "H_eSbk3I5-dH"
      },
      "execution_count": 2,
      "outputs": []
    },
    {
      "cell_type": "code",
      "execution_count": 1,
      "metadata": {
        "colab": {
          "base_uri": "https://localhost:8080/"
        },
        "id": "vxyJzCvc4c7A",
        "outputId": "c423ad8f-7c68-421f-d505-1d6d97d961c5"
      },
      "outputs": [
        {
          "output_type": "stream",
          "name": "stdout",
          "text": [
            "Looking in indexes: https://pypi.org/simple, https://us-python.pkg.dev/colab-wheels/public/simple/\n",
            "Collecting snntorch\n",
            "  Downloading snntorch-0.6.2-py2.py3-none-any.whl (104 kB)\n",
            "\u001b[2K     \u001b[90m━━━━━━━━━━━━━━━━━━━━━━━━━━━━━━━━━━━━━━━\u001b[0m \u001b[32m104.7/104.7 kB\u001b[0m \u001b[31m4.6 MB/s\u001b[0m eta \u001b[36m0:00:00\u001b[0m\n",
            "\u001b[?25hRequirement already satisfied: torch>=1.1.0 in /usr/local/lib/python3.10/dist-packages (from snntorch) (2.0.1+cu118)\n",
            "Requirement already satisfied: pandas in /usr/local/lib/python3.10/dist-packages (from snntorch) (1.5.3)\n",
            "Requirement already satisfied: matplotlib in /usr/local/lib/python3.10/dist-packages (from snntorch) (3.7.1)\n",
            "Requirement already satisfied: numpy>=1.17 in /usr/local/lib/python3.10/dist-packages (from snntorch) (1.22.4)\n",
            "Requirement already satisfied: filelock in /usr/local/lib/python3.10/dist-packages (from torch>=1.1.0->snntorch) (3.12.0)\n",
            "Requirement already satisfied: typing-extensions in /usr/local/lib/python3.10/dist-packages (from torch>=1.1.0->snntorch) (4.5.0)\n",
            "Requirement already satisfied: sympy in /usr/local/lib/python3.10/dist-packages (from torch>=1.1.0->snntorch) (1.11.1)\n",
            "Requirement already satisfied: networkx in /usr/local/lib/python3.10/dist-packages (from torch>=1.1.0->snntorch) (3.1)\n",
            "Requirement already satisfied: jinja2 in /usr/local/lib/python3.10/dist-packages (from torch>=1.1.0->snntorch) (3.1.2)\n",
            "Requirement already satisfied: triton==2.0.0 in /usr/local/lib/python3.10/dist-packages (from torch>=1.1.0->snntorch) (2.0.0)\n",
            "Requirement already satisfied: cmake in /usr/local/lib/python3.10/dist-packages (from triton==2.0.0->torch>=1.1.0->snntorch) (3.25.2)\n",
            "Requirement already satisfied: lit in /usr/local/lib/python3.10/dist-packages (from triton==2.0.0->torch>=1.1.0->snntorch) (16.0.5)\n",
            "Requirement already satisfied: contourpy>=1.0.1 in /usr/local/lib/python3.10/dist-packages (from matplotlib->snntorch) (1.0.7)\n",
            "Requirement already satisfied: cycler>=0.10 in /usr/local/lib/python3.10/dist-packages (from matplotlib->snntorch) (0.11.0)\n",
            "Requirement already satisfied: fonttools>=4.22.0 in /usr/local/lib/python3.10/dist-packages (from matplotlib->snntorch) (4.39.3)\n",
            "Requirement already satisfied: kiwisolver>=1.0.1 in /usr/local/lib/python3.10/dist-packages (from matplotlib->snntorch) (1.4.4)\n",
            "Requirement already satisfied: packaging>=20.0 in /usr/local/lib/python3.10/dist-packages (from matplotlib->snntorch) (23.1)\n",
            "Requirement already satisfied: pillow>=6.2.0 in /usr/local/lib/python3.10/dist-packages (from matplotlib->snntorch) (8.4.0)\n",
            "Requirement already satisfied: pyparsing>=2.3.1 in /usr/local/lib/python3.10/dist-packages (from matplotlib->snntorch) (3.0.9)\n",
            "Requirement already satisfied: python-dateutil>=2.7 in /usr/local/lib/python3.10/dist-packages (from matplotlib->snntorch) (2.8.2)\n",
            "Requirement already satisfied: pytz>=2020.1 in /usr/local/lib/python3.10/dist-packages (from pandas->snntorch) (2022.7.1)\n",
            "Requirement already satisfied: six>=1.5 in /usr/local/lib/python3.10/dist-packages (from python-dateutil>=2.7->matplotlib->snntorch) (1.16.0)\n",
            "Requirement already satisfied: MarkupSafe>=2.0 in /usr/local/lib/python3.10/dist-packages (from jinja2->torch>=1.1.0->snntorch) (2.1.2)\n",
            "Requirement already satisfied: mpmath>=0.19 in /usr/local/lib/python3.10/dist-packages (from sympy->torch>=1.1.0->snntorch) (1.3.0)\n",
            "Installing collected packages: snntorch\n",
            "Successfully installed snntorch-0.6.2\n"
          ]
        }
      ],
      "source": [
        "!pip install snntorch"
      ]
    },
    {
      "cell_type": "code",
      "source": [
        "class LeakySurrogate(nn.Module):\n",
        "  def __init__(self, beta, threshold=1.0):\n",
        "    super().__init__(LeakySurrogate, self).__init__()\n",
        "\n",
        "    # initialize decay rate beta and threshold\n",
        "    self.beta = beta\n",
        "    self.threshold = threshold\n",
        "    self.spike_gradient = self.ATan.apply\n",
        "    # define the spiking function(heavyside function)\n",
        "    # silimar to activation function\n",
        "  \n",
        "  # the forward function is called each time we call Leaky\n",
        "  def forward(self, input_, mem):\n",
        "    spk = self.spike_gradient((mem - self.threshold))\n",
        "    # heavyside function\n",
        "    reset = (self.beta * self.threshold * spk).detach()\n",
        "    # no need to calculate grad\n",
        "    mem = self.mem * self.beta + input_ - reset\n",
        "    return spk, mem\n",
        "  # forward pass: heavyside\n",
        "  # backward pass: override dirac delta function with arctan function\n",
        "\n",
        "  # define an activation function for forward and backward pass\n",
        "  class ATan(torch.autograd.Function):\n",
        "    def forward(ctx, mem):\n",
        "      spk = (mem > 0).float()\n",
        "      ctx.save_for_backward(mem)\n",
        "      return spk\n",
        "    \n",
        "    def backward(ctx, grad_output):\n",
        "      (mem,) = ctx.saved_tensors\n",
        "      # retrive the membrane potential\n",
        "      grad = 1 / ((1 + np.pi * mem).pow_(2))\n",
        "      return grad\n",
        "    # the reset mechanism is detached from the computational graph\n",
        "\n"
      ],
      "metadata": {
        "id": "JCpPLSpQ7HvH"
      },
      "execution_count": null,
      "outputs": []
    },
    {
      "cell_type": "code",
      "source": [
        "lif1 = snn.Leaky(beta=0.9)"
      ],
      "metadata": {
        "id": "LoU2UbfL8NR2"
      },
      "execution_count": 3,
      "outputs": []
    },
    {
      "cell_type": "markdown",
      "source": [
        "Training a real FCN"
      ],
      "metadata": {
        "id": "EPxch46If8ZE"
      }
    },
    {
      "cell_type": "code",
      "source": [
        "# dataloader arguments\n",
        "batch_size = 128\n",
        "data_path = '/data/mnist'\n",
        "\n",
        "dtype = torch.float\n",
        "device = torch.device(\"cuda\") if torch.cuda.is_available() else torch.device(\"cpu\")\n",
        "\n",
        "# define a transform\n",
        "transform = transforms.Compose([\n",
        "    transforms.Resize((28, 28)),\n",
        "    transforms.Grayscale(),\n",
        "    transforms.ToTensor(),\n",
        "    transforms.Normalize((0,), (1, ))\n",
        "])\n",
        "training_set = datasets.MNIST(\n",
        "    root=data_path, \n",
        "    train=True,\n",
        "    download=True,\n",
        "    transform = transform)\n",
        "\n",
        "testing_set = datasets.MNIST(\n",
        "    root=data_path, \n",
        "    train=False,\n",
        "    download=True,\n",
        "    transform = transform)"
      ],
      "metadata": {
        "colab": {
          "base_uri": "https://localhost:8080/"
        },
        "id": "krCspvUXf7qt",
        "outputId": "b432a732-3a1d-4f12-8241-365cf93de265"
      },
      "execution_count": 4,
      "outputs": [
        {
          "output_type": "stream",
          "name": "stdout",
          "text": [
            "Downloading http://yann.lecun.com/exdb/mnist/train-images-idx3-ubyte.gz\n",
            "Downloading http://yann.lecun.com/exdb/mnist/train-images-idx3-ubyte.gz to /data/mnist/MNIST/raw/train-images-idx3-ubyte.gz\n"
          ]
        },
        {
          "output_type": "stream",
          "name": "stderr",
          "text": [
            "100%|██████████| 9912422/9912422 [00:00<00:00, 101609126.81it/s]\n"
          ]
        },
        {
          "output_type": "stream",
          "name": "stdout",
          "text": [
            "Extracting /data/mnist/MNIST/raw/train-images-idx3-ubyte.gz to /data/mnist/MNIST/raw\n",
            "\n",
            "Downloading http://yann.lecun.com/exdb/mnist/train-labels-idx1-ubyte.gz\n",
            "Downloading http://yann.lecun.com/exdb/mnist/train-labels-idx1-ubyte.gz to /data/mnist/MNIST/raw/train-labels-idx1-ubyte.gz\n"
          ]
        },
        {
          "output_type": "stream",
          "name": "stderr",
          "text": [
            "100%|██████████| 28881/28881 [00:00<00:00, 38987992.86it/s]\n"
          ]
        },
        {
          "output_type": "stream",
          "name": "stdout",
          "text": [
            "Extracting /data/mnist/MNIST/raw/train-labels-idx1-ubyte.gz to /data/mnist/MNIST/raw\n",
            "\n",
            "Downloading http://yann.lecun.com/exdb/mnist/t10k-images-idx3-ubyte.gz\n",
            "Downloading http://yann.lecun.com/exdb/mnist/t10k-images-idx3-ubyte.gz to /data/mnist/MNIST/raw/t10k-images-idx3-ubyte.gz\n"
          ]
        },
        {
          "output_type": "stream",
          "name": "stderr",
          "text": [
            "100%|██████████| 1648877/1648877 [00:00<00:00, 28837121.07it/s]\n"
          ]
        },
        {
          "output_type": "stream",
          "name": "stdout",
          "text": [
            "Extracting /data/mnist/MNIST/raw/t10k-images-idx3-ubyte.gz to /data/mnist/MNIST/raw\n",
            "\n",
            "Downloading http://yann.lecun.com/exdb/mnist/t10k-labels-idx1-ubyte.gz\n",
            "Downloading http://yann.lecun.com/exdb/mnist/t10k-labels-idx1-ubyte.gz to /data/mnist/MNIST/raw/t10k-labels-idx1-ubyte.gz\n"
          ]
        },
        {
          "output_type": "stream",
          "name": "stderr",
          "text": [
            "100%|██████████| 4542/4542 [00:00<00:00, 19107852.32it/s]\n"
          ]
        },
        {
          "output_type": "stream",
          "name": "stdout",
          "text": [
            "Extracting /data/mnist/MNIST/raw/t10k-labels-idx1-ubyte.gz to /data/mnist/MNIST/raw\n",
            "\n"
          ]
        }
      ]
    },
    {
      "cell_type": "code",
      "source": [
        "training_loader = DataLoader(training_set, \n",
        "                             batch_size=batch_size,\n",
        "                             shuffle=True,\n",
        "                             drop_last=True)\n",
        "testing_loader = DataLoader(testing_set, \n",
        "                             batch_size=batch_size,\n",
        "                             shuffle=True,\n",
        "                             drop_last=True)"
      ],
      "metadata": {
        "id": "SbPH8jpXjA30"
      },
      "execution_count": 5,
      "outputs": []
    },
    {
      "cell_type": "markdown",
      "source": [
        "2. Define the network"
      ],
      "metadata": {
        "id": "HCfz6xTOjc3d"
      }
    },
    {
      "cell_type": "code",
      "source": [
        "# network architecture\n",
        "num_inputs = 28*28\n",
        "num_hidden = 1000\n",
        "num_outputs = 10\n",
        "\n",
        "# temporal dynamics\n",
        "num_steps = 25\n",
        "beta = 0.95\n",
        "\n",
        "# define the network\n",
        "class Net(nn.Module):\n",
        "  def __init__(self):\n",
        "    super().__init__()\n",
        "    # initialize layers\n",
        "    self.fc1 = nn.Linear(num_inputs, num_hidden)\n",
        "    self.lif1 = snn.Leaky(beta=beta)\n",
        "    self.fc2 = nn.Linear(num_hidden, num_outputs)\n",
        "    self.lif2 = snn.Leaky(beta=beta)\n",
        "    # three fully connected layers\n",
        "\n",
        "  def forward(self, x):\n",
        "    # initialize hidden states at t=0\n",
        "    mem1 = self.lif1.init_leaky()\n",
        "    # mem1 is the mem of the second layer\n",
        "    # snn.Leaky.init_leaky() return the default membrane potential\n",
        "    mem2 = self.lif2.init_leaky()\n",
        "\n",
        "    #record the spk and mem of the final layer\n",
        "    spk2_rec = []\n",
        "    mem2_rec = []\n",
        "\n",
        "    for step in range(num_steps):\n",
        "      cur1 = self.fc1(x)\n",
        "      # regard the pixel values as current\n",
        "      # du/di = w\n",
        "      spk1, mem1 = self.lif1(cur1, mem1)\n",
        "      cur2 = self.fc2(spk1)\n",
        "      # not mem\n",
        "      # the spks of hidden layer are torch.dot() by the weights vector\n",
        "      # then passed to the last layer\n",
        "      spk2, mem2 = self.lif2(cur2, mem2)\n",
        "      spk2_rec.append(spk2)\n",
        "      mem2_rec.append(mem2)\n",
        "\n",
        "    return torch.stack(spk2_rec, dim=0), torch.stack(mem2_rec, dim=0),\n"
      ],
      "metadata": {
        "id": "eTq8VGv0jbRp"
      },
      "execution_count": 6,
      "outputs": []
    },
    {
      "cell_type": "code",
      "source": [
        "net = Net().to(device)"
      ],
      "metadata": {
        "id": "h17BO1qWqYKi"
      },
      "execution_count": 7,
      "outputs": []
    },
    {
      "cell_type": "code",
      "source": [
        "print(net)"
      ],
      "metadata": {
        "colab": {
          "base_uri": "https://localhost:8080/"
        },
        "id": "hsfs9uP1qciX",
        "outputId": "335ee9a6-cbdd-46d1-890b-297161b9af30"
      },
      "execution_count": 8,
      "outputs": [
        {
          "output_type": "stream",
          "name": "stdout",
          "text": [
            "Net(\n",
            "  (fc1): Linear(in_features=784, out_features=1000, bias=True)\n",
            "  (lif1): Leaky()\n",
            "  (fc2): Linear(in_features=1000, out_features=10, bias=True)\n",
            "  (lif2): Leaky()\n",
            ")\n"
          ]
        }
      ]
    },
    {
      "cell_type": "markdown",
      "source": [
        "3. Training the SNN\n",
        "3.1 Accuracy Metric"
      ],
      "metadata": {
        "id": "Wt0jJPzuj7sy"
      }
    },
    {
      "cell_type": "code",
      "source": [
        "def print_batch_accuracy(data, targets, train=False):\n",
        "  output, _ = net(data.view(batch_size, -1))\n",
        "  # omit the mem\n",
        "  _, idx = output.sum(dim=0).max(1)\n",
        "  # average mem of each neuron over time steps\n",
        "  acc = np.mean((targets == idx).detach().cpu().numpy())\n",
        "\n",
        "  if train:\n",
        "    print(f\"Training set accuracy for a single minibatch: {acc*100:0.2f}%\")\n",
        "  else:\n",
        "    print(f\"testing set accuracy for a single minibatch: {acc*100:0.2f}%\")\n",
        "\n",
        "def train_printer(data, targets, epoch, counter, iter_counter, loss_hist, test_loss_hist, test_data, test_targets):\n",
        "  print(f\"Epoch {epoch}, Iteration {iter_counter}\")\n",
        "  print(f\"Train Set Loss: {loss_hist[counter]:.2f}\")\n",
        "  print(f\"Test Set Loss:{test_loss_hist[counter]:.2f}\")\n",
        "  print_batch_accuracy(data, targets, train=True)\n",
        "  print_batch_accuracy(data, targets, train=False)\n",
        "  print(\"\\n\")"
      ],
      "metadata": {
        "id": "fyURIaMLXPq7"
      },
      "execution_count": 18,
      "outputs": []
    },
    {
      "cell_type": "markdown",
      "source": [
        "7.2 Loss Definition"
      ],
      "metadata": {
        "id": "yMg4ulEo8jfd"
      }
    },
    {
      "cell_type": "code",
      "source": [
        "loss = nn.CrossEntropyLoss()\n",
        "optimizer = torch.optim.Adam(net.parameters(), lr=5e-4, betas=(0.9, 0.999))"
      ],
      "metadata": {
        "id": "u15su50D8hQE"
      },
      "execution_count": 10,
      "outputs": []
    },
    {
      "cell_type": "code",
      "source": [
        "data, targets = next(iter(training_loader))\n",
        "data = data.to(device)\n",
        "targets = targets.to(device)\n",
        "print(data.size())"
      ],
      "metadata": {
        "colab": {
          "base_uri": "https://localhost:8080/"
        },
        "id": "KDZs9ABL-I8C",
        "outputId": "20a33bda-acbd-435d-9430-63e8678521d7"
      },
      "execution_count": 11,
      "outputs": [
        {
          "output_type": "stream",
          "name": "stdout",
          "text": [
            "torch.Size([128, 1, 28, 28])\n"
          ]
        }
      ]
    },
    {
      "cell_type": "code",
      "source": [
        "spk_rec, mem_rec = net(data.view(batch_size, -1))\n",
        "print(mem_rec.size())\n",
        "# 25 time steps\n",
        "# 128 batches\n",
        "# 10 outputs"
      ],
      "metadata": {
        "colab": {
          "base_uri": "https://localhost:8080/"
        },
        "id": "lqElxnBABV3X",
        "outputId": "960af42e-a3f7-444f-dac1-011d31adb4c1"
      },
      "execution_count": 12,
      "outputs": [
        {
          "output_type": "stream",
          "name": "stdout",
          "text": [
            "torch.Size([25, 128, 10])\n"
          ]
        }
      ]
    },
    {
      "cell_type": "markdown",
      "source": [
        "We wish to calculate the loss at every time step, and sum them up together"
      ],
      "metadata": {
        "id": "EkSilH0RC-NJ"
      }
    },
    {
      "cell_type": "code",
      "source": [
        "# initialize the total loss value\n",
        "loss_val = torch.zeros((1), dtype=dtype, device=device)\n",
        "\n",
        "# sum loss at every step\n",
        "for step in range(num_steps):\n",
        "  loss_val += loss(mem_rec[step], targets)\n",
        "# same targets\n",
        "# use mem to count the loss\n",
        "print(f\"Training loss: {loss_val.item():.3f}\")\n",
        "print_batch_accuracy(data, targets, train=True)"
      ],
      "metadata": {
        "id": "BwiwT6dmB1ku",
        "colab": {
          "base_uri": "https://localhost:8080/"
        },
        "outputId": "f7c8558d-b2c4-435e-b954-4293b864d4f9"
      },
      "execution_count": 13,
      "outputs": [
        {
          "output_type": "stream",
          "name": "stdout",
          "text": [
            "Training loss: 62.501\n",
            "Training set accuracy for a single minibatch: 6.25%\n"
          ]
        }
      ]
    },
    {
      "cell_type": "markdown",
      "source": [],
      "metadata": {
        "id": "WFkrmyCxtkKD"
      }
    },
    {
      "cell_type": "code",
      "source": [
        "# 3 steps\n",
        "optimizer.zero_grad()\n",
        "loss_val.backward()\n",
        "optimizer.step()\n"
      ],
      "metadata": {
        "id": "z-Kn5N8Utkl-"
      },
      "execution_count": 14,
      "outputs": []
    },
    {
      "cell_type": "code",
      "source": [
        "# calculate new network outputs using the same data\n",
        "spk_rec, mem_rec = net(data.view(batch_size, -1))\n",
        "\n",
        "# initialize and sum the loss\n",
        "loss_val = torch.zeros((1), dtype=dtype, device=device)\n",
        "for step in range(num_steps):\n",
        "  loss_val +=  loss(mem_rec[step], targets)\n",
        "\n",
        "print(f\"Training loss: {loss_val.item():.3f}\")\n",
        "print_batch_accuracy(data, targets, train=True)"
      ],
      "metadata": {
        "colab": {
          "base_uri": "https://localhost:8080/"
        },
        "id": "8j1_KmAvuIhh",
        "outputId": "cb8cc13c-23fa-4427-c059-e09777e5bf6d"
      },
      "execution_count": 16,
      "outputs": [
        {
          "output_type": "stream",
          "name": "stdout",
          "text": [
            "Training loss: 49.604\n",
            "Training set accuracy for a single minibatch: 41.41%\n"
          ]
        }
      ]
    },
    {
      "cell_type": "code",
      "source": [
        "num_epochs = 1\n",
        "loss_hist = []\n",
        "test_loss_hist = []\n",
        "counter = 0\n",
        "\n",
        "# outer training loop\n",
        "for epoch in range(num_epochs):\n",
        "  iter_counter = 0\n",
        "  train_batch = iter(training_loader)\n",
        "\n",
        "  # minibatch training loop\n",
        "  for data, targets in train_batch:\n",
        "    data = data.to(device)\n",
        "    targets = targets.to(device)\n",
        "\n",
        "    # forward pass\n",
        "    net.train()\n",
        "    spk_rec, mem_rec = net(data.view(batch_size, -1))\n",
        "    # initialize and sum the loss\n",
        "    loss_val = torch.zeros((1), dtype=dtype, device=device)\n",
        "    for step in range(num_steps):\n",
        "      loss_val += loss(mem_rec[step], targets)\n",
        "\n",
        "    # gradient calculation & weight updata\n",
        "    optimizer.zero_grad()\n",
        "    loss_val.backward()\n",
        "    optimizer.step()\n",
        "\n",
        "    # store loss history\n",
        "    loss_hist.append(loss_val.item())\n",
        "\n",
        "    # test set\n",
        "    with torch.no_grad():\n",
        "      net.eval()\n",
        "      test_data, test_targets = next(iter(testing_loader))\n",
        "      test_data = test_data.to(device)\n",
        "      test_targets = test_targets.to(device)\n",
        "\n",
        "      # test data to the nest\n",
        "      test_spk, test_mem = net(test_data.view(batch_size, -1))\n",
        "\n",
        "      # test set loss\n",
        "      test_loss = torch.zeros((1), dtype=dtype, device=device)\n",
        "      for step in range(num_steps):\n",
        "        test_loss += loss(test_mem[step], test_targets)\n",
        "      test_loss_hist.append(test_loss.item())\n",
        "\n",
        "      # print loss & accuracy\n",
        "      if counter % 50 == 0:\n",
        "        train_printer(data, targets, epoch, counter, iter_counter, loss_hist, \n",
        "                      test_loss_hist, test_data, test_targets)\n",
        "      counter += 1\n",
        "      iter_counter += 1\n",
        "\n",
        "      "
      ],
      "metadata": {
        "colab": {
          "base_uri": "https://localhost:8080/"
        },
        "id": "OxDdj6gMwaZK",
        "outputId": "224e5ca0-7cd5-406d-ad44-13a5707a3b4c"
      },
      "execution_count": 19,
      "outputs": [
        {
          "output_type": "stream",
          "name": "stdout",
          "text": [
            "Epoch 0, Iteration 0\n",
            "Train Set Loss: 48.93\n",
            "Test Set Loss:46.01\n",
            "Training set accuracy for a single minibatch: 56.25%\n",
            "testing set accuracy for a single minibatch: 56.25%\n",
            "\n",
            "\n",
            "Epoch 0, Iteration 50\n",
            "Train Set Loss: 14.82\n",
            "Test Set Loss:11.38\n",
            "Training set accuracy for a single minibatch: 86.72%\n",
            "testing set accuracy for a single minibatch: 86.72%\n",
            "\n",
            "\n",
            "Epoch 0, Iteration 100\n",
            "Train Set Loss: 10.89\n",
            "Test Set Loss:12.99\n",
            "Training set accuracy for a single minibatch: 87.50%\n",
            "testing set accuracy for a single minibatch: 87.50%\n",
            "\n",
            "\n",
            "Epoch 0, Iteration 150\n",
            "Train Set Loss: 8.87\n",
            "Test Set Loss:8.10\n",
            "Training set accuracy for a single minibatch: 92.97%\n",
            "testing set accuracy for a single minibatch: 92.97%\n",
            "\n",
            "\n",
            "Epoch 0, Iteration 200\n",
            "Train Set Loss: 9.29\n",
            "Test Set Loss:13.79\n",
            "Training set accuracy for a single minibatch: 92.19%\n",
            "testing set accuracy for a single minibatch: 92.19%\n",
            "\n",
            "\n",
            "Epoch 0, Iteration 250\n",
            "Train Set Loss: 8.09\n",
            "Test Set Loss:8.39\n",
            "Training set accuracy for a single minibatch: 89.06%\n",
            "testing set accuracy for a single minibatch: 89.06%\n",
            "\n",
            "\n",
            "Epoch 0, Iteration 300\n",
            "Train Set Loss: 5.96\n",
            "Test Set Loss:9.01\n",
            "Training set accuracy for a single minibatch: 95.31%\n",
            "testing set accuracy for a single minibatch: 95.31%\n",
            "\n",
            "\n",
            "Epoch 0, Iteration 350\n",
            "Train Set Loss: 6.42\n",
            "Test Set Loss:5.57\n",
            "Training set accuracy for a single minibatch: 95.31%\n",
            "testing set accuracy for a single minibatch: 95.31%\n",
            "\n",
            "\n",
            "Epoch 0, Iteration 400\n",
            "Train Set Loss: 5.78\n",
            "Test Set Loss:5.92\n",
            "Training set accuracy for a single minibatch: 94.53%\n",
            "testing set accuracy for a single minibatch: 94.53%\n",
            "\n",
            "\n",
            "Epoch 0, Iteration 450\n",
            "Train Set Loss: 4.60\n",
            "Test Set Loss:9.38\n",
            "Training set accuracy for a single minibatch: 96.88%\n",
            "testing set accuracy for a single minibatch: 96.88%\n",
            "\n",
            "\n"
          ]
        }
      ]
    },
    {
      "cell_type": "markdown",
      "source": [
        "8. Results"
      ],
      "metadata": {
        "id": "6rfqVehK5_sL"
      }
    },
    {
      "cell_type": "code",
      "source": [
        "# plot loss\n",
        "fig = plt.figure(facecolor=\"w\", figsize=(10, 5))\n",
        "plt.plot(loss_hist)\n",
        "plt.plot(test_loss_hist)\n",
        "plt.title(\"Loss Curves\")\n",
        "plt.legend([\"Train Loss\", \"Test Loss\"])\n",
        "plt.xlabel(\"Iteration\")\n",
        "plt.ylabel(\"Loss\")\n",
        "plt.show()"
      ],
      "metadata": {
        "colab": {
          "base_uri": "https://localhost:8080/",
          "height": 369
        },
        "id": "0lUibvfY4bnn",
        "outputId": "e88ae4f9-c1ed-4d20-c0f1-db9e9a2dd05c"
      },
      "execution_count": 20,
      "outputs": [
        {
          "output_type": "display_data",
          "data": {
            "text/plain": [
              "<Figure size 1000x500 with 1 Axes>"
            ],
            "image/png": "[encoded data removed]"
          },
          "metadata": {}
        }
      ]
    },
    {
      "cell_type": "code",
      "source": [],
      "metadata": {
        "id": "v9VBsAnq-oqk"
      },
      "execution_count": null,
      "outputs": []
    },
    {
      "cell_type": "markdown",
      "source": [],
      "metadata": {
        "id": "AJM0M9Pt-oOa"
      }
    },
    {
      "cell_type": "code",
      "source": [
        "total = 0\n",
        "correct = 0\n",
        "testing_loader = DataLoader(testing_set, batch_size=batch_size, shuffle=True, drop_last=False)\n",
        "\n",
        "with torch.no_grad():\n",
        "  net.eval()\n",
        "  for data, targets in testing_loader:\n",
        "    data = data.to(device)\n",
        "    targets = targets.to(device)\n",
        "\n",
        "    test_spk, _ = net(data.view(data.size(0), -1))\n",
        "\n",
        "    # calculate total accuracy\n",
        "    _, predicted = test_spk.sum(dim=0).max(1)\n",
        "    total += targets.size(0)\n",
        "    correct += (predicted == targets).sum().item()\n",
        "\n",
        "  print(f\"total correctly classified test set images: {correct}/{total}\")\n",
        "  print(f\"test accuracy: {100 * correct /total:.2f}%\")"
      ],
      "metadata": {
        "colab": {
          "base_uri": "https://localhost:8080/"
        },
        "id": "oU1vCnDC627j",
        "outputId": "ef85f8f8-1b95-40cc-d1ec-82157c6cb37b"
      },
      "execution_count": 25,
      "outputs": [
        {
          "output_type": "stream",
          "name": "stdout",
          "text": [
            "total correctly classified test set images: 9384/10000\n",
            "test accuracy: 93.84%\n"
          ]
        }
      ]
    },
    {
      "cell_type": "code",
      "source": [],
      "metadata": {
        "id": "SiiGlQMk-VkS"
      },
      "execution_count": null,
      "outputs": []
    }
  ]
}